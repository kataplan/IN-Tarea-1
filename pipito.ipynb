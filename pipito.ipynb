{
 "cells": [
  {
   "cell_type": "code",
   "execution_count": 84,
   "metadata": {},
   "outputs": [],
   "source": [
    "import numpy as np\n",
    "import pandas as pd\n",
    "import utility    as ut\n",
    "import os"
   ]
  },
  {
   "cell_type": "code",
   "execution_count": 62,
   "metadata": {},
   "outputs": [],
   "source": [
    "def hankel_features(X,Param):\n",
    "  n_frame = int(Param[1])\n",
    "  l_frame = int(Param[2])\n",
    "  level = int(Param[3]) #nivel de descomposición \n",
    "\n",
    "  # Create Hankel matrix\n",
    "  H = np.zeros((l_frame, n_frame))\n",
    "  for j in range(n_frame):\n",
    "    start_idx = j * l_frame\n",
    "    end_idx = start_idx + l_frame\n",
    "    H[:, j] = X[start_idx:end_idx]\n",
    "  c = hankel_svd(H,level)\n",
    "\n",
    "  print(H.shape)\n",
    "  # Compute SVD and truncate to 2J singular values\n",
    "  U, S, V = np.linalg.svd(H, full_matrices=False)\n",
    "  S = S[:2 * n_frame]\n",
    "\n",
    "  # Compute entropy of spectral amplitudes\n",
    "  p = np.abs(np.fft.fft(H, axis=0)[:l_frame // 2 + 1, :]) ** 2\n",
    "  p = p / np.sum(p, axis=0)\n",
    "  Entropy_C = -np.sum(p * np.log2(p + 1e-10), axis=0)\n",
    "\n",
    "  # Concatenate features\n",
    "  F = np.concatenate((Entropy_C, S))\n",
    "  F = F.reshape(1, -1)\n",
    "\n",
    "  return F"
   ]
  },
  {
   "cell_type": "code",
   "execution_count": 114,
   "metadata": {},
   "outputs": [],
   "source": [
    "def create_hankel_matrix(frame, L= 2):\n",
    "  n = frame.shape[1]\n",
    "  K = n - L + 1\n",
    "  H_frame = np.zeros((L, K))\n",
    "  print(\"EL N\")\n",
    "  print(n)\n",
    "  print(frame.shape)\n",
    "  for i in range(L):\n",
    "    for j in range(K):\n",
    "      if i + j < n:\n",
    "        H_frame[i][j] = frame[i + j]\n",
    "  return H_frame\n",
    "\n",
    "def data_class(Data,j,i):\n",
    "  df = Data[i]\n",
    "  return df.iloc[:,j]\n",
    "\n",
    "def create_features(Data,param): #Data= lista de classX.csv\n",
    "  p = param[9]\n",
    "  nbr_class = len(Data) #numero de clases que tengo\n",
    "  Y=[]\n",
    "  X=[]\n",
    "  for i in range(nbr_class): # i es subindicie de un df del Data\n",
    "    nbr_variable = Data[i].shape[1] # cantidad de columnas del iesimo df\n",
    "    datF = []\n",
    "    for j in range( nbr_variable):\n",
    "        Xj = data_class(Data, j, i) # Retorna j-th variable de i-th class, es la columna de cada clase, ej: primera columna de la clase 1, segunda columna de la clase 1.....\n",
    "        #print(Xj) \n",
    "        #arreglo = np.array(Xj).reshape(1, -1)\n",
    "        #print(arreglo)\n",
    "        #print(type(arreglo))\n",
    "        #print(arreglo.shape[1]) #obtener tamaño del arreglo\n",
    "        Hj_hankel = create_hankel_matrix(Xj)\n",
    "        print(Hj_hankel)\n",
    "        \n",
    "        \n",
    "        \n",
    " \n",
    "\n",
    "  return "
   ]
  },
  {
   "cell_type": "code",
   "execution_count": 115,
   "metadata": {},
   "outputs": [
    {
     "ename": "IndexError",
     "evalue": "tuple index out of range",
     "output_type": "error",
     "traceback": [
      "\u001b[1;31m---------------------------------------------------------------------------\u001b[0m",
      "\u001b[1;31mIndexError\u001b[0m                                Traceback (most recent call last)",
      "Cell \u001b[1;32mIn [115], line 39\u001b[0m\n\u001b[0;32m     33\u001b[0m     create_features(Data,Param)\n\u001b[0;32m     36\u001b[0m     \u001b[39m#save_data(InputDat,OutDat)\u001b[39;00m\n\u001b[1;32m---> 39\u001b[0m main()\n",
      "Cell \u001b[1;32mIn [115], line 33\u001b[0m, in \u001b[0;36mmain\u001b[1;34m()\u001b[0m\n\u001b[0;32m     25\u001b[0m Data            \u001b[39m=\u001b[39m load_data()\t\n\u001b[0;32m     26\u001b[0m \u001b[39m#InputDat,OutDat = create_features(Data, Param)\u001b[39;00m\n\u001b[0;32m     27\u001b[0m \u001b[39m#InputDat        = data_norm(InputDat)\u001b[39;00m\n\u001b[0;32m     28\u001b[0m \u001b[39m#print(Data[0])\u001b[39;00m\n\u001b[1;32m   (...)\u001b[0m\n\u001b[0;32m     31\u001b[0m \u001b[39m#print(Data[2].iloc[0,0])\u001b[39;00m\n\u001b[0;32m     32\u001b[0m \u001b[39m#print(Data[2].shape[1])\u001b[39;00m\n\u001b[1;32m---> 33\u001b[0m create_features(Data,Param)\n",
      "Cell \u001b[1;32mIn [114], line 33\u001b[0m, in \u001b[0;36mcreate_features\u001b[1;34m(Data, param)\u001b[0m\n\u001b[0;32m     27\u001b[0m       Xj \u001b[39m=\u001b[39m data_class(Data, j, i) \u001b[39m# Retorna j-th variable de i-th class, es la columna de cada clase, ej: primera columna de la clase 1, segunda columna de la clase 1.....\u001b[39;00m\n\u001b[0;32m     28\u001b[0m       \u001b[39m#print(Xj) \u001b[39;00m\n\u001b[0;32m     29\u001b[0m       \u001b[39m#arreglo = np.array(Xj).reshape(1, -1)\u001b[39;00m\n\u001b[0;32m     30\u001b[0m       \u001b[39m#print(arreglo)\u001b[39;00m\n\u001b[0;32m     31\u001b[0m       \u001b[39m#print(type(arreglo))\u001b[39;00m\n\u001b[0;32m     32\u001b[0m       \u001b[39m#print(arreglo.shape[1]) #obtener tamaño del arreglo\u001b[39;00m\n\u001b[1;32m---> 33\u001b[0m       Hj_hankel \u001b[39m=\u001b[39m create_hankel_matrix(Xj)\n\u001b[0;32m     34\u001b[0m       \u001b[39mprint\u001b[39m(Hj_hankel)\n\u001b[0;32m     40\u001b[0m \u001b[39mreturn\u001b[39;00m\n",
      "Cell \u001b[1;32mIn [114], line 2\u001b[0m, in \u001b[0;36mcreate_hankel_matrix\u001b[1;34m(frame, L)\u001b[0m\n\u001b[0;32m      1\u001b[0m \u001b[39mdef\u001b[39;00m \u001b[39mcreate_hankel_matrix\u001b[39m(frame, L\u001b[39m=\u001b[39m \u001b[39m2\u001b[39m):\n\u001b[1;32m----> 2\u001b[0m   n \u001b[39m=\u001b[39m frame\u001b[39m.\u001b[39;49mshape[\u001b[39m1\u001b[39;49m]\n\u001b[0;32m      3\u001b[0m   K \u001b[39m=\u001b[39m n \u001b[39m-\u001b[39m L \u001b[39m+\u001b[39m \u001b[39m1\u001b[39m\n\u001b[0;32m      4\u001b[0m   H_frame \u001b[39m=\u001b[39m np\u001b[39m.\u001b[39mzeros((L, K))\n",
      "\u001b[1;31mIndexError\u001b[0m: tuple index out of range"
     ]
    }
   ],
   "source": [
    "# Load data from ClassXX.csv\n",
    "def load_data():\n",
    "  # Directorio donde se encuentran los archivos\n",
    "  dir_path = \"Data/\"\n",
    "\n",
    "  # Obtener la lista de archivos en el directorio\n",
    "  files = os.listdir(dir_path)\n",
    "\n",
    "  # Filtrar los archivos que siguen el patrón \"classX.csv\"\n",
    "  files = [f for f in files if f.startswith(\"class\") and f.endswith(\".csv\")]\n",
    "\n",
    "  # Leer cada archivo y almacenarlo en un dataframe\n",
    "  dataframes = []\n",
    "  for file in files:\n",
    "      filepath = os.path.join(dir_path, file)\n",
    "      df = pd.read_csv(filepath, header=None)\n",
    "      dataframes.append(df)\n",
    "\n",
    "  # Combinar todos los dataframes en uno solo\n",
    "  return dataframes\n",
    "\n",
    "# Beginning \n",
    "def main():        \n",
    "    Param           = ut.load_cnf() \n",
    "    Data            = load_data()\t\n",
    "    #InputDat,OutDat = create_features(Data, Param)\n",
    "    #InputDat        = data_norm(InputDat)\n",
    "    #print(Data[0])\n",
    "    #print(\"caca\")\n",
    "    #print(type(Data[0]))\n",
    "    #print(Data[2].iloc[0,0])\n",
    "    #print(Data[2].shape[1])\n",
    "    create_features(Data,Param)\n",
    "    \n",
    "    \n",
    "    #save_data(InputDat,OutDat)\n",
    "\n",
    " \n",
    "main()"
   ]
  },
  {
   "cell_type": "code",
   "execution_count": 59,
   "metadata": {},
   "outputs": [],
   "source": [
    "def data_class(Data,j,i):\n",
    "  df = Data[i]\n",
    "  return df.iloc[:,j]\n",
    "\n",
    "def create_features(Data,param): #Data= lista de classX.csv\n",
    "  p = param[9]\n",
    "  nbr_class = len(Data) #numero de clases que tengo\n",
    "  Y=[]\n",
    "  X=[]\n",
    "  for i in range(nbr_class): # i es subindicie de un df del Data\n",
    "    nbr_variable = Data[i].shape[1] # cantidad de columnas del iesimo df\n",
    "    datF = []\n",
    "    for j in range( nbr_variable):\n",
    "        Xj = data_class(Data, j, i) # Retorna j-th variable de i-th class\n",
    "        print(Xj)\n",
    " \n",
    "\n",
    "  return "
   ]
  },
  {
   "cell_type": "code",
   "execution_count": null,
   "metadata": {},
   "outputs": [],
   "source": [
    "def data_class(df_list,j,i):\n",
    "  df = df_list[i]\n",
    "  return df.iloc[:,j]\n",
    "\n",
    "def create_features(Data,param): #Data= lista de classX.csv\n",
    "  p = param[9]\n",
    "  nbr_class = len(Data)\n",
    "  Y=[]\n",
    "  X=[]\n",
    "  for i in range(nbr_class): # i es subindicie de un df del Data\n",
    "    nbr_variable = Data[i].shape[1] # cantidad de columnas del iesimo df\n",
    "    datF = []\n",
    "    for j in range( nbr_variable):\n",
    "        Xj = data_class(Data, j, i) # Retorna j-th variable de i-th class\n",
    "        Fj = hankel_features(Xj, param)\n",
    "        datF.append(Fj)\n",
    "    label = binary_label(i)\n",
    "    Y.append(label)\n",
    "    X.append(datF)\n",
    " \n",
    "  #X = data_norm(X)\n",
    "  dtrn, dtst = create_dtrn_dtst(X, Y, p) # p: denota porcentaje de training.\n",
    "  return dtrn, dtst"
   ]
  },
  {
   "cell_type": "code",
   "execution_count": 96,
   "metadata": {},
   "outputs": [
    {
     "name": "stdout",
     "output_type": "stream",
     "text": [
      "(1, 120000)\n"
     ]
    }
   ],
   "source": [
    "import pandas as pd\n",
    "import numpy as np\n",
    "\n",
    "datos = np.random.rand(120000)\n",
    "df = pd.DataFrame(datos.reshape(1,-1))\n",
    "arreglo = np.array(df).reshape(1, -1)\n",
    "\n",
    "print(arreglo.shape)"
   ]
  },
  {
   "cell_type": "code",
   "execution_count": 109,
   "metadata": {},
   "outputs": [
    {
     "name": "stdout",
     "output_type": "stream",
     "text": [
      "<class 'numpy.ndarray'>\n",
      "[0.03444585 0.3720475  0.11593449 ... 0.41999141 0.0032317  0.98301393]\n",
      "[[0.03444585 0.3720475  0.11593449 ... 0.13074553 0.41999141 0.0032317 ]\n",
      " [0.3720475  0.11593449 0.21500209 ... 0.41999141 0.0032317  0.98301393]]\n"
     ]
    }
   ],
   "source": [
    "def create_hankel_matrix(frame, n):\n",
    "  L = 2\n",
    "  K = n - L + 1\n",
    "  H_frame = np.zeros((L, K))\n",
    "  for i in range(L):\n",
    "    for j in range(K):\n",
    "      if i + j < n:\n",
    "        H_frame[i][j] = frame[i + j]\n",
    "  return H_frame\n",
    "\n",
    "def main ():\n",
    "  arreglo = np.random.rand(120000)\n",
    "  print(type(arreglo))\n",
    "  print(arreglo)\n",
    "  hankel = create_hankel_matrix(arreglo, len(arreglo))\n",
    "  print(hankel)\n",
    "\n",
    "main()  "
   ]
  }
 ],
 "metadata": {
  "kernelspec": {
   "display_name": "Python 3",
   "language": "python",
   "name": "python3"
  },
  "language_info": {
   "codemirror_mode": {
    "name": "ipython",
    "version": 3
   },
   "file_extension": ".py",
   "mimetype": "text/x-python",
   "name": "python",
   "nbconvert_exporter": "python",
   "pygments_lexer": "ipython3",
   "version": "3.10.11"
  },
  "orig_nbformat": 4,
  "vscode": {
   "interpreter": {
    "hash": "8ab4f7b3e469a23afc90de4a40f4f66110d9554c66a65077e1c9160df5141b2b"
   }
  }
 },
 "nbformat": 4,
 "nbformat_minor": 2
}
